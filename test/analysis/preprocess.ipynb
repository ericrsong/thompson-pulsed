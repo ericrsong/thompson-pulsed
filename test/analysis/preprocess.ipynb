{
 "cells": [
  {
   "cell_type": "code",
   "execution_count": 1,
   "metadata": {},
   "outputs": [],
   "source": [
    "# -*- coding: utf-8 -*-\n",
    "import sys\n",
    "sys.path.insert(0, \"/home/ericsong/Documents/3L/thompson-pulsed/src\")"
   ]
  },
  {
   "cell_type": "code",
   "execution_count": 2,
   "metadata": {},
   "outputs": [],
   "source": [
    "import numpy as np\n",
    "import matplotlib.pyplot as plt\n",
    "from scipy.constants import c, pi\n",
    "from scipy.optimize import curve_fit\n",
    "from scipy.signal import find_peaks"
   ]
  },
  {
   "cell_type": "code",
   "execution_count": 3,
   "metadata": {},
   "outputs": [],
   "source": [
    "import os\n",
    "import pickle\n",
    "\n",
    "import thompson_pulsed as tp # v0.7.0\n",
    "import three_level as e3l\n"
   ]
  },
  {
   "cell_type": "code",
   "execution_count": 4,
   "metadata": {},
   "outputs": [],
   "source": [
    "\"\"\"\n",
    "SETTINGS: Define all datasets to preprocess\n",
    "\"\"\"\n",
    "folder = os.path.join(os.getcwd(), '..')\n",
    "sd48551 = e3l.SetDef(folder, \"s48551\", seq0=48551, nseq=20, chiN_nom=1040, deltaZ=0, theta0=0.5, heating=3)\n",
    "\n",
    "# Sets to preprocess\n",
    "sds = [sd48551]"
   ]
  },
  {
   "cell_type": "code",
   "execution_count": 5,
   "metadata": {},
   "outputs": [],
   "source": [
    "\"\"\"\n",
    "SETTINGS: Define experimental parameters and options\n",
    "\"\"\"\n",
    "params = e3l.Parameters()\n",
    "params.t_run = 50 * 1e-6        # 50 us\n",
    "params.t_drive = 0.3 * 1e-6     # 0.3 us\n",
    "params.t_cav_pulse = 5 * 1e-6   # 5 us\n",
    "params.f0_cav = 10 * 1e6        # 10 MHz\n",
    "params.f0_atom = 8.75 * 1e6       # 10 MHz\n",
    "params.dt = 1/60 * 1e-6\n",
    "\n",
    "option_reload_all = False"
   ]
  },
  {
   "cell_type": "code",
   "execution_count": 6,
   "metadata": {},
   "outputs": [
    {
     "name": "stdout",
     "output_type": "stream",
     "text": [
      "0\n"
     ]
    }
   ],
   "source": [
    "\"\"\"\n",
    "Iterate over sets\n",
    "\"\"\"\n",
    "for j in range(len(sds)):\n",
    "    print(j)"
   ]
  },
  {
   "cell_type": "code",
   "execution_count": 7,
   "metadata": {},
   "outputs": [
    {
     "name": "stdout",
     "output_type": "stream",
     "text": [
      "Sequence 1 of 20 loaded.\n",
      "Sequence 2 of 20 loaded.\n",
      "Sequence 3 of 20 loaded.\n",
      "Sequence 4 of 20 loaded.\n",
      "Sequence 5 of 20 loaded.\n",
      "Sequence 6 of 20 loaded.\n",
      "Sequence 7 of 20 loaded.\n",
      "Sequence 8 of 20 loaded.\n",
      "Sequence 9 of 20 loaded.\n",
      "Sequence 10 of 20 loaded.\n",
      "Sequence 11 of 20 loaded.\n",
      "Sequence 12 of 20 loaded.\n",
      "Sequence 13 of 20 loaded.\n",
      "Sequence 14 of 20 loaded.\n",
      "Sequence 15 of 20 loaded.\n",
      "Sequence 16 of 20 loaded.\n",
      "Sequence 17 of 20 loaded.\n",
      "Sequence 18 of 20 loaded.\n",
      "Sequence 19 of 20 loaded.\n",
      "Sequence 20 of 20 loaded.\n"
     ]
    }
   ],
   "source": [
    "j=0\n",
    "sd = sds[j]\n",
    "\n",
    "pkl_file = os.path.join(sd.folder, sd.dset_name + '.pickle')\n",
    "\n",
    "# Create experiment object for set and preprocess\n",
    "expt = e3l.Experiment(params)\n",
    "for i in range(sd.seq0, sd.seq0 + sd.nseq):\n",
    "    file_num = str(i).zfill(sd.zpad)\n",
    "    file_name = sd.expt_title + file_num + '.txt'\n",
    "    file = os.path.join(folder, file_name)\n",
    "\n",
    "    expt.load_sequence(file)\n",
    "\n",
    "    print(f'Sequence {i-sd.seq0+1} of {sd.nseq} loaded.')\n",
    "\n",
    "data, premeasure, postmeasure = expt.preprocess(\n",
    "    premeasure_interleaved = True, postmeasure = 5, n_warmups = 1)\n",
    "\n",
    "\n",
    "# # Bundle up data and pickle\n",
    "# pkl_dict = {\n",
    "#     \"data\": data,\n",
    "#     \"premeasure\": premeasure,\n",
    "#     \"postmeasure\": postmeasure,\n",
    "#     \"sd\": sd\n",
    "# }\n",
    "# pickle.dump(pkl_dict, open(pkl_file, 'wb'))\n",
    "\n",
    "# print(f'Set {sd.dset_name} ({j+1} of {len(sds)}) preprocessed and pickled.')"
   ]
  },
  {
   "cell_type": "code",
   "execution_count": 10,
   "metadata": {},
   "outputs": [
    {
     "name": "stdout",
     "output_type": "stream",
     "text": [
      "<class 'three_level.expt.Data'>\n",
      "<class 'three_level.expt.Data'>\n",
      "<class 'three_level.expt.Data'>\n"
     ]
    }
   ],
   "source": [
    "print(type(data))\n",
    "print(type(premeasure))\n",
    "print(type(postmeasure))"
   ]
  },
  {
   "cell_type": "code",
   "execution_count": 19,
   "metadata": {},
   "outputs": [
    {
     "data": {
      "text/plain": [
       "<thompson_pulsed.core.traces.Time_Multitrace at 0x7f86b0b388b0>"
      ]
     },
     "execution_count": 19,
     "metadata": {},
     "output_type": "execute_result"
    }
   ],
   "source": [
    "data.cav_runs\n",
    "print(premeasure.t.shape)\n",
    "print(postmeasure.t.shape)"
   ]
  },
  {
   "cell_type": "code",
   "execution_count": null,
   "metadata": {},
   "outputs": [],
   "source": []
  }
 ],
 "metadata": {
  "kernelspec": {
   "display_name": "Python 3.9.0 ('env': venv)",
   "language": "python",
   "name": "python3"
  },
  "language_info": {
   "codemirror_mode": {
    "name": "ipython",
    "version": 3
   },
   "file_extension": ".py",
   "mimetype": "text/x-python",
   "name": "python",
   "nbconvert_exporter": "python",
   "pygments_lexer": "ipython3",
   "version": "3.9.0"
  },
  "orig_nbformat": 4,
  "vscode": {
   "interpreter": {
    "hash": "149cd1544ea99cbd9fe39cd5cadd209812b45dafd1b6c3e50178048c8cbc6107"
   }
  }
 },
 "nbformat": 4,
 "nbformat_minor": 2
}
